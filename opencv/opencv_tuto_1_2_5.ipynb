{
 "cells": [
  {
   "cell_type": "markdown",
   "metadata": {},
   "source": [
    "# Trackbar as the Color Palette\n",
    "\n",
    "<h2>\n",
    "    <ul>\n",
    "        <li>Lear to bind trackbar to OpenCV windows</li>\n",
    "        <li>You will learn these function : cv2.getTrackbarPos(), cv2.createTrackbar() etc.</li>\n",
    "    </ul>\n",
    "</h2>"
   ]
  },
  {
   "cell_type": "markdown",
   "metadata": {},
   "source": [
    "## Code Demo"
   ]
  },
  {
   "cell_type": "code",
   "execution_count": 2,
   "metadata": {},
   "outputs": [],
   "source": [
    "import cv2\n",
    "import numpy as np\n",
    "\n",
    "def nothing (x) :\n",
    "    pass\n",
    "\n",
    "# Create a black image, a window\n",
    "img = np.zeros ((300, 512, 3), np.uint8)\n",
    "cv2.namedWindow ('image')\n",
    "\n",
    "# Create trackbars for color change\n",
    "cv2.createTrackbar ('R', 'image', 0, 255, nothing)\n",
    "cv2.createTrackbar ('G', 'image', 0, 255, nothing)\n",
    "cv2.createTrackbar ('B', 'image', 0, 255, nothing)\n",
    "\n",
    "# Cretae switch for ON/OFF functionality\n",
    "switch = '0 : OFF\\n1 : ON'\n",
    "cv2.createTrackbar (switch, 'image', 0, 1, nothing)\n",
    "\n",
    "while (1) :\n",
    "    cv2.imshow ('image', img)\n",
    "    k = cv2.waitKey(1) & 0xFF\n",
    "    if k == 27 :\n",
    "        break\n",
    "        \n",
    "    # Get current potisions of four trackbars\n",
    "    r = cv2.getTrackbarPos ('R', 'image')\n",
    "    g = cv2.getTrackbarPos ('G', 'image')\n",
    "    b = cv2.getTrackbarPos ('B', 'image')\n",
    "    s = cv2.getTrackbarPos (switch, 'image')\n",
    "    \n",
    "    if (s == 0) :\n",
    "        img[:] = 0\n",
    "    else :\n",
    "        img[:] = [b, g, r]\n",
    "\n",
    "        \n",
    "cv2.destroyAllWindows()            "
   ]
  },
  {
   "cell_type": "markdown",
   "metadata": {},
   "source": [
    "## Exercises\n",
    "### Create a Paint application with adjustable color and brush radisu using trackbars. For drawing, refer previous tutorial on mouse handling."
   ]
  },
  {
   "cell_type": "code",
   "execution_count": 8,
   "metadata": {},
   "outputs": [],
   "source": [
    "import cv2\n",
    "import numpy as np\n",
    "\n",
    "drawing = False # ture if mouse is pressed\n",
    "ix, iy = -1, -1\n",
    "\n",
    "def nothing (x) :\n",
    "        pass\n",
    "    \n",
    "def draw_line (event, x, y, flags, param) :\n",
    "    global ix, iy, radius, drawing\n",
    "    \n",
    "    if (event == cv2.EVENT_LBUTTONDOWN) :\n",
    "        drawing = True\n",
    "    elif (event == cv2.EVENT_MOUSEMOVE) :\n",
    "        if (drawing == True) :\n",
    "            cv2.circle (img, (x, y), radius, (b, g, r), -1)\n",
    "    elif (event == cv2.EVENT_LBUTTONUP) :\n",
    "        drawing = False\n",
    "        cv2.circle (img, (x, y), radius, (b, g, r), -1)\n",
    "    \n",
    "    \n",
    "    \n",
    "img = np.zeros ((512, 512, 3), np.uint8)\n",
    "cv2.namedWindow ('image')\n",
    "\n",
    "# Create trackbars for color and brush size change\n",
    "cv2.createTrackbar ('R', 'image', 0, 255, nothing)\n",
    "cv2.createTrackbar ('G', 'image', 0, 255, nothing)\n",
    "cv2.createTrackbar ('B', 'image', 0, 255, nothing)\n",
    "cv2.createTrackbar ('Radius', 'image', 0, 255, nothing)\n",
    "\n",
    "# Set mouse handler\n",
    "cv2.setMouseCallback ('image', draw_line)\n",
    "\n",
    "while (1) :\n",
    "    cv2.imshow('image', img)\n",
    "    k = cv2.waitKey(1) & 0xFF\n",
    "    if k == 27 :\n",
    "        break\n",
    "        \n",
    "    r = cv2.getTrackbarPos ('R', 'image')\n",
    "    g = cv2.getTrackbarPos ('G', 'image')\n",
    "    b = cv2.getTrackbarPos ('B', 'image')\n",
    "    radius = cv2.getTrackbarPos ('Radius', 'image')\n",
    "    \n",
    "    \n",
    "    \n",
    "    \n",
    "        \n",
    "cv2.destroyAllWindows()"
   ]
  },
  {
   "cell_type": "code",
   "execution_count": null,
   "metadata": {},
   "outputs": [],
   "source": []
  }
 ],
 "metadata": {
  "kernelspec": {
   "display_name": "Python 3",
   "language": "python",
   "name": "python3"
  },
  "language_info": {
   "codemirror_mode": {
    "name": "ipython",
    "version": 3
   },
   "file_extension": ".py",
   "mimetype": "text/x-python",
   "name": "python",
   "nbconvert_exporter": "python",
   "pygments_lexer": "ipython3",
   "version": "3.8.3"
  }
 },
 "nbformat": 4,
 "nbformat_minor": 4
}
