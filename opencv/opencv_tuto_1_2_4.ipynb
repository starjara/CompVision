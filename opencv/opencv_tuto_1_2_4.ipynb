{
 "cells": [
  {
   "cell_type": "markdown",
   "metadata": {},
   "source": [
    "# Mouse as a Paint-Brush\n",
    "\n",
    "<h2>\n",
    "    <ul>\n",
    "        <li>Learn to handle mouse events in OpenCV</li>\n",
    "        <li>You will learn these functions : cv2.setMouseCallback()\n",
    "    </ul>\n",
    "</h2>"
   ]
  },
  {
   "cell_type": "markdown",
   "metadata": {},
   "source": [
    "## Simple demo"
   ]
  },
  {
   "cell_type": "code",
   "execution_count": 2,
   "metadata": {},
   "outputs": [],
   "source": [
    "import cv2\n",
    "import numpy as np\n",
    "\n",
    "# mouse callback function\n",
    "def draw_circle (event, x, y, flags, param) :\n",
    "    if (event == cv2.EVENT_LBUTTONDBLCLK) :\n",
    "        cv2.circle(img, (x, y), 100, (255, 0, 0), -1)\n",
    "        \n",
    "# Create a black image, a window and bind the function to window\n",
    "img = np.zeros ((512, 512, 3), np.uint8)\n",
    "cv2.namedWindow ('image')\n",
    "cv2.setMouseCallback ('image', draw_circle)\n",
    "\n",
    "while (1):\n",
    "    cv2.imshow ('image', img)\n",
    "    if (cv2.waitKey(20) & 0xFF == ord('q')) :\n",
    "        break\n",
    "        \n",
    "cv2.destroyAllWindows()"
   ]
  },
  {
   "cell_type": "markdown",
   "metadata": {},
   "source": [
    "## More Advanced Demo"
   ]
  },
  {
   "cell_type": "code",
   "execution_count": 3,
   "metadata": {},
   "outputs": [],
   "source": [
    "import cv2\n",
    "import numpy as np\n",
    "\n",
    "drawing = False # ture if mouse is pressed\n",
    "mode = True # if True, draw rectangle. press 'm' to toggle to curve\n",
    "ix, iy = -1, -1\n",
    "\n",
    "# mouse callback function \n",
    "def draw_circle (event, x, y, flags, param) :\n",
    "    global ix, iy, drawing, mode\n",
    "    \n",
    "    if (event == cv2.EVENT_LBUTTONDOWN) :\n",
    "        drawing = True\n",
    "        ix, iy = x, y\n",
    "        \n",
    "    elif (event == cv2.EVENT_MOUSEMOVE) :\n",
    "        if drawing == True :\n",
    "            if mode == True :\n",
    "                cv2.rectangle (img, (ix, iy), (x, y), (0, 255, 0), -1)\n",
    "            else :\n",
    "                cv2.circle (img, (x, y), 5, (0, 0, 255), -1)\n",
    "                \n",
    "    elif (event == cv2.EVENT_LBUTTONUP) :\n",
    "        drawing = False\n",
    "        if (mode == True) :\n",
    "            cv2.rectangle (img, (ix, iy), (x, y), (0, 255, 0), -1)\n",
    "        else :\n",
    "            cv2.circle (img, (x, y), 5, (0, 0, 255), -1)\n",
    "                \n",
    "img = np.zeros ((512, 512, 3), np.uint8)\n",
    "cv2.namedWindow('image')\n",
    "cv2.setMouseCallback ('image', draw_circle)\n",
    "\n",
    "while (1) :\n",
    "    cv2.imshow ('image', img)\n",
    "    k = cv2.waitKey(1) & 0xFF\n",
    "    if k == ord('m') :\n",
    "        mode = not mode\n",
    "    elif k == 27 :\n",
    "        break\n",
    "        \n",
    "cv2.destroyAllWindows()"
   ]
  },
  {
   "cell_type": "markdown",
   "metadata": {},
   "source": [
    "## Exercises\n",
    "### Draw unfilled rectangle"
   ]
  },
  {
   "cell_type": "code",
   "execution_count": 16,
   "metadata": {},
   "outputs": [],
   "source": [
    "import cv2\n",
    "import numpy as np\n",
    "\n",
    "drawing = False # ture if mouse is pressed\n",
    "mode = True # if True, draw rectangle. press 'm' to toggle to curve\n",
    "ix, iy = -1, -1\n",
    "\n",
    "# mouse callback function \n",
    "def draw_circle (event, x, y, flags, param) :\n",
    "    global ix, iy, drawing, mode\n",
    "    \n",
    "    if (event == cv2.EVENT_LBUTTONDOWN) :\n",
    "        drawing = True\n",
    "        ix, iy = x, y\n",
    "        \n",
    "    elif (event == cv2.EVENT_MOUSEMOVE) :\n",
    "        if drawing == True :\n",
    "            if mode == True :\n",
    "                pass\n",
    "            else :\n",
    "                cv2.circle (img, (x, y), 5, (0, 0, 255), -1)\n",
    "                \n",
    "    elif (event == cv2.EVENT_LBUTTONUP) :\n",
    "        drawing = False\n",
    "        if (mode == True) :\n",
    "            cv2.line (img, (ix, iy), (x, iy), (0, 255, 0), 5)\n",
    "            cv2.line (img, (ix, iy), (ix, y), (0, 255, 0), 5)\n",
    "            cv2.line (img, (x, y), (x, iy), (0, 255, 0), 5)\n",
    "            cv2.line (img, (x, y), (ix, y), (0, 255, 0), 5)\n",
    "        else :\n",
    "            cv2.circle (img, (x, y), 5, (0, 0, 255), -1)\n",
    "                \n",
    "img = np.zeros ((512, 512, 3), np.uint8)\n",
    "cv2.namedWindow('image')\n",
    "cv2.setMouseCallback ('image', draw_circle)\n",
    "\n",
    "while (1) :\n",
    "    cv2.imshow ('image', img)\n",
    "    k = cv2.waitKey(1) & 0xFF\n",
    "    if k == ord('m') :\n",
    "        mode = not mode\n",
    "    elif k == 27 :\n",
    "        break\n",
    "        \n",
    "cv2.destroyAllWindows()"
   ]
  },
  {
   "cell_type": "code",
   "execution_count": null,
   "metadata": {},
   "outputs": [],
   "source": []
  }
 ],
 "metadata": {
  "kernelspec": {
   "display_name": "Python 3",
   "language": "python",
   "name": "python3"
  },
  "language_info": {
   "codemirror_mode": {
    "name": "ipython",
    "version": 3
   },
   "file_extension": ".py",
   "mimetype": "text/x-python",
   "name": "python",
   "nbconvert_exporter": "python",
   "pygments_lexer": "ipython3",
   "version": "3.8.3"
  }
 },
 "nbformat": 4,
 "nbformat_minor": 4
}
