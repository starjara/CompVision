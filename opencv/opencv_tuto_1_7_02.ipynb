{
 "cells": [
  {
   "cell_type": "markdown",
   "metadata": {},
   "source": [
    "# 1.7.02 Pose Estimation\n",
    "\n",
    "<h3>\n",
    "    <ul>\n",
    "        <li>We will learn to exploit calib3d module to create some 3D effects in images.</li>\n",
    "    </ul>\n",
    "    </h3>\n",
    "    "
   ]
  },
  {
   "cell_type": "code",
   "execution_count": 6,
   "metadata": {},
   "outputs": [
    {
     "name": "stdout",
     "output_type": "stream",
     "text": [
      "5\n"
     ]
    }
   ],
   "source": [
    "import numpy as np\n",
    "import cv2\n",
    "import glob\n",
    "\n",
    "# termination criteria\n",
    "criteria = (cv2.TERM_CRITERIA_EPS + cv2.TERM_CRITERIA_MAX_ITER, 30, 0.001)\n",
    "\n",
    "# prepare object points, like (0,0,0), (1,0,0), (2,0,0), ..., (6,5,0)\n",
    "objp = np.zeros((6*7, 3), np.float32)\n",
    "objp[:, :2] = np.mgrid[0:7, 0:6].T.reshape(-1,2)\n",
    "\n",
    "# Arrays to store object points and image points from all the images.\n",
    "objpoints = [] # 3d point in real world space\n",
    "imgpoints = [] # 2d point in image space\n",
    "\n",
    "images = glob.glob('./board2/*.png')\n",
    "\n",
    "print(len(images))\n",
    "\n",
    "for fname in images :\n",
    "    img = cv2.imread(fname)\n",
    "    gray = cv2.cvtColor(img, cv2.COLOR_BGR2GRAY)\n",
    "    \n",
    "    # Find the chess board corners\n",
    "    ret, corners = cv2.findChessboardCorners(gray, (7, 6), None)\n",
    "    \n",
    "    if ret == True :\n",
    "        objpoints.append(objp)\n",
    "        \n",
    "        corners2 = cv2.cornerSubPix(gray, corners, (11, 11), (-1,-1), criteria)\n",
    "        imgpoints.append(corners2)\n",
    "\n",
    "        # Draw and display the corners\n",
    "        img = cv2.drawChessboardCorners(img, (7, 6), corners2, ret)\n",
    "        cv2.imshow('img', img)\n",
    "        ret, mtx, dist, rvecs, tvecs = cv2.calibrateCamera(objpoints, imgpoints, gray.shape[::-1], None, None)\n",
    "        #print (mtx)\n",
    "        #print (dist)\n",
    "        #print (rvecs)\n",
    "        cv2.waitKey(500)\n",
    "    \n",
    "cv2.destroyAllWindows()"
   ]
  },
  {
   "cell_type": "code",
   "execution_count": 7,
   "metadata": {},
   "outputs": [],
   "source": [
    "import cv2\n",
    "import numpy as np\n",
    "import glob\n",
    "\n",
    "# Load previously saved data\n",
    "\n",
    "def drawAxis(img, corners, imgpts) :\n",
    "    corner = tuple(corners[0].ravel())\n",
    "    img = cv2.line(img, corners, tuple(imgpts[0].ravel()), (255, 0, 0), 5)\n",
    "    img = cv2.line(img, corners, tuple(imgpts[1].ravel()), (0, 255, 0), 5)\n",
    "    img = cv2.line(img, corners, tuple(imgpts[2].ravel()), (0, 0, 255), 5)\n",
    "    return img\n",
    "\n",
    "def drawBox(img, corners, imgpts) :\n",
    "    imgpts = np.int32(imgpts).reshape(-1, 2)\n",
    "    \n",
    "    #draw ground floor in green\n",
    "    img = cv2.drawContours(img, [imgpts[:4]], -1, (0, 255, 0), -3)\n",
    "    \n",
    "    #draw pillars in blue color\n",
    "    for i, j in zip(range(4), range(4, 8)) :\n",
    "        img = cv2.line(img, tuple(imgpts[i]), tuple(imgpts[j]), (255), 3)\n",
    "        \n",
    "    #draw top layer in red color\n",
    "    img = cv2.drawContours(img, [imgpts[4:]], -1, (0, 0, 255), 3)\n",
    "    \n",
    "    return img\n",
    "    \n",
    "criteria = (cv2.TERM_CRITERIA_EPS + cv2.TERM_CRITERIA_MAX_ITER, 30, 0.001)\n",
    "objp = np.zeros((6*7,3), np.float32)\n",
    "objp[:, :2] = np.mgrid[0:7, 0:6].T.reshape(-1, 2)\n",
    "\n",
    "#axis = np.float32([[3, 0, 0], [0, 3, 0], [0, 0, -3]]).reshape(-1, 3)\n",
    "axis = np.float32([[0, 0, 0], [0, 3, 0], [3, 3, 0], [3, 0, 0],\n",
    "                   [0, 0, -3], [0, 3, -3], [3, 3, -3], [3, 0, -3]])\n",
    "\n",
    "for fname in glob.glob('./board2/*.png') :\n",
    "    img = cv2.imread(fname)\n",
    "    gray = cv2.cvtColor(img, cv2.COLOR_BGR2GRAY)\n",
    "    ret, corners = cv2.findChessboardCorners(gray, (7, 6), None)\n",
    "    cv2.imshow('img', img)\n",
    "    \n",
    "    if ret == True :\n",
    "        corners2 = cv2.cornerSubPix(gray, corners, (11, 11), (-1, -1), criteria)\n",
    "        #Find the rotation and translation vectors.\n",
    "        _, rvecs, tvecs, linliers = cv2.solvePnPRansac(objp, corners2, mtx, dist)\n",
    "        \n",
    "        #Project 3D points to image plane\n",
    "        imgpts, jac = cv2.projectPoints(axis, rvecs, tvecs, mtx, dist)\n",
    "        \n",
    "        img = drawBox(img, corners2, imgpts)\n",
    "        cv2.imshow('img', img)\n",
    "        k = cv2.waitKey(0) & 0xff\n",
    "    \n",
    "cv2.destroyAllWindows()\n",
    "    "
   ]
  },
  {
   "cell_type": "code",
   "execution_count": null,
   "metadata": {},
   "outputs": [],
   "source": []
  },
  {
   "cell_type": "code",
   "execution_count": null,
   "metadata": {},
   "outputs": [],
   "source": []
  }
 ],
 "metadata": {
  "kernelspec": {
   "display_name": "Python 3",
   "language": "python",
   "name": "python3"
  },
  "language_info": {
   "codemirror_mode": {
    "name": "ipython",
    "version": 3
   },
   "file_extension": ".py",
   "mimetype": "text/x-python",
   "name": "python",
   "nbconvert_exporter": "python",
   "pygments_lexer": "ipython3",
   "version": "3.8.3"
  }
 },
 "nbformat": 4,
 "nbformat_minor": 4
}
