{
 "cells": [
  {
   "cell_type": "markdown",
   "metadata": {},
   "source": [
    "# 1.5.2 Harris Corner Detection\n",
    "\n",
    "<h3>\n",
    "    <ul>\n",
    "        <li>We will understand the concepts behind Harris Corner Detection</li>\n",
    "        <li>We will see the functions : cv2.cornerHarris(), cv2.cornerSubPix()</li>\n",
    "    </ul>\n",
    "    </h3>"
   ]
  },
  {
   "cell_type": "code",
   "execution_count": 87,
   "metadata": {},
   "outputs": [],
   "source": [
    "import cv2\n",
    "import numpy as np\n",
    "\n",
    "def nothing (x) :\n",
    "    pass\n",
    "\n",
    "filename = 'horse.bmp'\n",
    "img = cv2.imread(filename)\n",
    "cv2.namedWindow('result')\n",
    "gray = cv2.cvtColor(img, cv2.COLOR_BGR2GRAY)\n",
    "\n",
    "#Create Trackbar\n",
    "cv2.createTrackbar('threshold', 'result', 0, 1000, nothing)\n",
    "\n",
    "i=0\n",
    "while(1) :\n",
    "    result = img.copy()\n",
    "    th = cv2.getTrackbarPos('threshold', 'result')\n",
    "    \n",
    "    gray = np.float32(gray)\n",
    "    dst = cv2.cornerHarris(gray, 2, 3, 0.04)\n",
    "    \n",
    "    # Result is dilated for marking the corners, not important\n",
    "    dst = cv2.dilate(dst, None)\n",
    "    \n",
    "    # Threshold for an optimal value, it may vary depending on the image.\n",
    "    result[dst>th/100000*dst.max()] = [0, 0, 255]\n",
    "    \n",
    "    cv2.imshow('result', result)\n",
    "    \n",
    "    if ( cv2.waitKey(1) & 0xff == 27) :\n",
    "        break\n",
    "        \n",
    "cv2.destroyAllWindows()"
   ]
  },
  {
   "cell_type": "code",
   "execution_count": 5,
   "metadata": {},
   "outputs": [],
   "source": [
    "import cv2\n",
    "import numpy as np\n",
    "\n",
    "filename = 'horse2.bmp'\n",
    "img = cv2.imread(filename)\n",
    "gray = cv2.cvtColor(img, cv2.COLOR_BGR2GRAY)\n",
    "\n",
    "gray = np.float32(gray)\n",
    "dst = cv2.cornerHarris(gray, 2, 3, 0.04)\n",
    "dst = cv2.dilate(dst, None)\n",
    "ret, dst = cv2.threshold(dst, 0.01*dst.max(), 255, 0)\n",
    "dst = np.uint8(dst)\n",
    "\n",
    "# Find centroids\n",
    "ret, labels, status, centroids = cv2.connectedComponentsWithStats(dst)\n",
    "\n",
    "# Define the criteria to stop and refine the corners\n",
    "criteria = (cv2.TERM_CRITERIA_EPS + cv2.TERM_CRITERIA_MAX_ITER, 100, 0.001)\n",
    "corners = cv2.cornerSubPix(gray, np.float32(centroids), (5, 5), (-1, -1), criteria)\n",
    "\n",
    "# Now draw them\n",
    "res = np.hstack((centroids, corners))\n",
    "res = np.int0(res)\n",
    "'''\n",
    "img[res[:, 1], res[:, 0]] = [0, 0, 255]\n",
    "img[res[:, 3], res[:, 2]] = [0, 255, 0]\n",
    "'''\n",
    "\n",
    "for i in range(res.shape[0]):\n",
    "    cv2.circle(img,(res[i,0],res[i,1]),2,(0,0,255),-1)\n",
    "    cv2.circle(img,(res[i,2],res[i,3]),3,(0,255,0),-1)\n",
    "\n",
    "    \n",
    "cv2.imshow('dst', img)\n",
    "cv2.waitKey(0)\n",
    "cv2.destroyAllWindows()"
   ]
  },
  {
   "cell_type": "code",
   "execution_count": null,
   "metadata": {},
   "outputs": [],
   "source": []
  }
 ],
 "metadata": {
  "kernelspec": {
   "display_name": "Python 3",
   "language": "python",
   "name": "python3"
  },
  "language_info": {
   "codemirror_mode": {
    "name": "ipython",
    "version": 3
   },
   "file_extension": ".py",
   "mimetype": "text/x-python",
   "name": "python",
   "nbconvert_exporter": "python",
   "pygments_lexer": "ipython3",
   "version": "3.8.3"
  }
 },
 "nbformat": 4,
 "nbformat_minor": 4
}
