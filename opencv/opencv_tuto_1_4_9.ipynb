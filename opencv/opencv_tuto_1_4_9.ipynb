{
 "cells": [
  {
   "cell_type": "markdown",
   "metadata": {},
   "source": [
    "# 1.4.9 Contours in OpenCV\n",
    "\n",
    "<h3>\n",
    "    <ul>\n",
    "        <li>Understand what contours are</li>\n",
    "        <li>Learn to fend contours, draw contours etc</li>\n",
    "        <li>You will see these functions : cv2.findContours(), cv2.drawContours()</li>\n",
    "    </ul>\n",
    "</h3>"
   ]
  },
  {
   "cell_type": "code",
   "execution_count": 187,
   "metadata": {},
   "outputs": [],
   "source": [
    "import numpy as np\n",
    "import cv2\n",
    "\n",
    "im = cv2.imread('Ras.png')\n",
    "imgray = cv2.cvtColor(im, cv2.COLOR_BGR2GRAY)\n",
    "imgray = 255 - imgray\n",
    "\n",
    "ret, thresh = cv2.threshold(imgray, 127, 255, 0)\n",
    "\n",
    "kernel = np.ones((5, 5), np.uint8)\n",
    "clossing = cv2.morphologyEx(im, cv2.MORPH_CLOSE, kernel)\n",
    "\n",
    "img, controus = cv2.findContours(thresh, cv2.RETR_TREE, cv2.CHAIN_APPROX_SIMPLE)\n",
    "im = cv2.drawContours(im, contours, -1, (0, 100, 0), 3)\n",
    "im = cv2.drawContours(im, contours, 0, (0, 200, 0), 3)\n",
    "im = cv2.drawContours(im, contours, 1, (200, 0, 0), 3)\n",
    "im = cv2.drawContours(im, contours, 2, (0, 0, 255), 3)\n",
    "\n",
    "controus, hierarchy = cv2.findContours(thresh, 1, 2)\n",
    "\n",
    "cnt = contours[0]\n",
    "M = cv2.moments(cnt)\n",
    "\n",
    "cx = int(M['m10']/M['m00'])\n",
    "cy = int(M['m01']/M['m00'])\n",
    "\n",
    "area = cv2.contourArea(cnt)\n",
    "\n",
    "perimeter = cv2.arcLength(cnt, True)\n",
    "\n",
    "epsilon = 0.1 * cv2.arcLength(cnt, True)\n",
    "approx = cv2.approxPolyDP(cnt, epsilon, True)\n",
    "\n",
    "im = cv2.circle(im, (cx, cy), 4, (255, 0, 0), -1)\n",
    "\n",
    "font = cv2.FONT_HERSHEY_SIMPLEX\n",
    "cv2.putText(im, 'A'+str(area)+\", L\"+str(perimeter), (cx, cy), font, 1, (0, 0, 0), 2, cv2.LINE_AA)\n",
    "\n",
    "cv2.imshow('contours', im)\n",
    "cv2.waitKey(0)\n",
    "cv2.destroyAllWindows()\n",
    "\n"
   ]
  },
  {
   "cell_type": "code",
   "execution_count": null,
   "metadata": {},
   "outputs": [],
   "source": []
  },
  {
   "cell_type": "code",
   "execution_count": null,
   "metadata": {},
   "outputs": [],
   "source": []
  }
 ],
 "metadata": {
  "kernelspec": {
   "display_name": "Python 3",
   "language": "python",
   "name": "python3"
  },
  "language_info": {
   "codemirror_mode": {
    "name": "ipython",
    "version": 3
   },
   "file_extension": ".py",
   "mimetype": "text/x-python",
   "name": "python",
   "nbconvert_exporter": "python",
   "pygments_lexer": "ipython3",
   "version": "3.8.3"
  }
 },
 "nbformat": 4,
 "nbformat_minor": 4
}
