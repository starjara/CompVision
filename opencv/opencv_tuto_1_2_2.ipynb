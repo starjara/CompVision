{
 "cells": [
  {
   "cell_type": "markdown",
   "metadata": {},
   "source": [
    "# Getting started with Videos\n",
    "\n",
    "<h2>\n",
    "    <ul>\n",
    "        <li>Learn to read video, display video and save video.</li>\n",
    "        <li>Lern to capture from Camera and display it.</li>\n",
    "        <li>You will learn these functions : cv2.VideoCapture(), cv2.VideoWriter()</li>\n",
    "    </ul>\n",
    "</h2>"
   ]
  },
  {
   "cell_type": "code",
   "execution_count": 4,
   "metadata": {},
   "outputs": [],
   "source": [
    "import numpy as np\n",
    "import cv2\n",
    "\n",
    "cap = cv2.VideoCapture(0)\n",
    "\n",
    "while (True) :\n",
    "    # Capture frame-by-frame\n",
    "    ret, frame = cap.read()\n",
    "    \n",
    "    # Our operations on the frame come here\n",
    "    gray = cv2.cvtColor (frame, cv2.COLOR_BGR2GRAY)\n",
    "    \n",
    "    # Display the resulting frame\n",
    "    cv2.imshow ('frame', gray)\n",
    "    if (cv2.waitKey(1) & 0xFF == ord('q')) :\n",
    "        break;\n",
    "        \n",
    "# When everything done, release the capture\n",
    "cap.release()\n",
    "cv2.destroyAllWindows()"
   ]
  },
  {
   "cell_type": "markdown",
   "metadata": {},
   "source": [
    "## Play video from file"
   ]
  },
  {
   "cell_type": "code",
   "execution_count": 2,
   "metadata": {},
   "outputs": [],
   "source": [
    "import numpy as np\n",
    "import cv2\n",
    "\n",
    "cap = cv2.VideoCapture ('vtest.avi')\n",
    "\n",
    "while (cap.isOpened()) :\n",
    "    ret, frame = cap.read()\n",
    "    \n",
    "    gray = cv2.cvtColor (frame, cv2.COLOR_BGR2GRAY)\n",
    "    \n",
    "    cv2.imshow ('frame', gray)\n",
    "    if ((v2.waitKey(1) & 0xFF)== ord('q')) :\n",
    "        break\n",
    "        \n",
    "cap.release()\n",
    "cv2.destroyAllWindows()"
   ]
  },
  {
   "cell_type": "markdown",
   "metadata": {},
   "source": [
    "## Saving a Video"
   ]
  },
  {
   "cell_type": "code",
   "execution_count": 5,
   "metadata": {},
   "outputs": [],
   "source": [
    "import numpy as np\n",
    "import cv2\n",
    "\n",
    "cap = cv2.VideoCapture(0)\n",
    "\n",
    "# Define the codec and create VideoWriter object\n",
    "fourcc = cv2.VideoWriter_fourcc (*'XVID')\n",
    "out = cv2.VideoWriter ('C:\\output.avi', fourcc, 20.0, (640, 480))\n",
    "\n",
    "while (cap.isOpened()) :\n",
    "    ret, frame = cap.read()\n",
    "    \n",
    "    if (ret == True) :\n",
    "        fream = cv2.flip(frame, 0)\n",
    "        \n",
    "        # write the flipped frame\n",
    "        out.write (frame)\n",
    "        \n",
    "        cv2.imshow ('frame', frame)\n",
    "        if ((cv2.waitKey(1) & 0xFF) == ord('q')) :\n",
    "            break\n",
    "    else:\n",
    "        break\n",
    "        \n",
    "# Release everything if job is finished\n",
    "cap.release()\n",
    "out.release()\n",
    "cv2.destroyAllWindows()"
   ]
  },
  {
   "cell_type": "code",
   "execution_count": null,
   "metadata": {},
   "outputs": [],
   "source": []
  }
 ],
 "metadata": {
  "kernelspec": {
   "display_name": "Python 3",
   "language": "python",
   "name": "python3"
  },
  "language_info": {
   "codemirror_mode": {
    "name": "ipython",
    "version": 3
   },
   "file_extension": ".py",
   "mimetype": "text/x-python",
   "name": "python",
   "nbconvert_exporter": "python",
   "pygments_lexer": "ipython3",
   "version": "3.8.3"
  }
 },
 "nbformat": 4,
 "nbformat_minor": 4
}
